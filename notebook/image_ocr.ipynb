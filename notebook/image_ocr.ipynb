{
  "nbformat": 4,
  "nbformat_minor": 0,
  "metadata": {
    "colab": {
      "name": "image_ocr.ipynb",
      "provenance": [],
      "authorship_tag": "ABX9TyMwzMUFld8m/UasQHwxgUpX",
      "include_colab_link": true
    },
    "kernelspec": {
      "name": "python3",
      "display_name": "Python 3"
    },
    "language_info": {
      "name": "python"
    },
    "accelerator": "GPU"
  },
  "cells": [
    {
      "cell_type": "markdown",
      "metadata": {
        "id": "view-in-github",
        "colab_type": "text"
      },
      "source": [
        "<a href=\"https://colab.research.google.com/github/Naitik6803/Bookstore-ML/blob/main/notebook/image_ocr.ipynb\" target=\"_parent\"><img src=\"https://colab.research.google.com/assets/colab-badge.svg\" alt=\"Open In Colab\"/></a>"
      ]
    },
    {
      "cell_type": "code",
      "metadata": {
        "id": "U-bx_5bbMH8O"
      },
      "source": [
        "!pip install easyocr"
      ],
      "execution_count": null,
      "outputs": []
    },
    {
      "cell_type": "code",
      "metadata": {
        "id": "MHvx0ikxNEs7"
      },
      "source": [
        "from google.colab import files\n",
        "from IPython.display import Image"
      ],
      "execution_count": null,
      "outputs": []
    },
    {
      "cell_type": "code",
      "metadata": {
        "id": "NnHWfB7FNH0s"
      },
      "source": [
        "img= files.upload()"
      ],
      "execution_count": null,
      "outputs": []
    },
    {
      "cell_type": "code",
      "metadata": {
        "id": "U8EoGo3RN4rU"
      },
      "source": [
        "import easyocr\n",
        "reader = easyocr.Reader(['en'])\n",
        "output = reader.readtext('test.jpg')\n",
        "final_text=\"\"\n",
        "for i in range(0,len(output)):\n",
        "    text=output[i][1]\n",
        "    final_text=final_text +\" \"+ text\n",
        "    "
      ],
      "execution_count": 9,
      "outputs": []
    }
  ]
}