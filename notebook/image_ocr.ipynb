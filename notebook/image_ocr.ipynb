{
  "nbformat": 4,
  "nbformat_minor": 0,
  "metadata": {
    "colab": {
      "name": "image_ocr.ipynb",
      "provenance": [],
      "authorship_tag": "ABX9TyNy9LYTS4UkejHpg4/qI2JN",
      "include_colab_link": true
    },
    "kernelspec": {
      "name": "python3",
      "display_name": "Python 3"
    },
    "language_info": {
      "name": "python"
    },
    "accelerator": "GPU"
  },
  "cells": [
    {
      "cell_type": "markdown",
      "metadata": {
        "id": "view-in-github",
        "colab_type": "text"
      },
      "source": [
        "<a href=\"https://colab.research.google.com/github/Naitik6803/Bookstore-ML/blob/main/notebook/image_ocr.ipynb\" target=\"_parent\"><img src=\"https://colab.research.google.com/assets/colab-badge.svg\" alt=\"Open In Colab\"/></a>"
      ]
    },
    {
      "cell_type": "code",
      "metadata": {
        "id": "U-bx_5bbMH8O"
      },
      "source": [
        "!pip install easyocr"
      ],
      "execution_count": null,
      "outputs": []
    },
    {
      "cell_type": "code",
      "metadata": {
        "id": "MHvx0ikxNEs7"
      },
      "source": [
        "from google.colab import files\n",
        "from IPython.display import Image"
      ],
      "execution_count": 3,
      "outputs": []
    },
    {
      "cell_type": "code",
      "metadata": {
        "id": "NnHWfB7FNH0s"
      },
      "source": [
        "img= files.upload()"
      ],
      "execution_count": null,
      "outputs": []
    },
    {
      "cell_type": "code",
      "metadata": {
        "id": "U8EoGo3RN4rU"
      },
      "source": [
        "import easyocr\n",
        "reader = easyocr.Reader(['en'])\n",
        "output = reader.readtext('test.jpg')\n",
        "book_name=\"\"\n",
        "\n",
        "\n",
        "\n",
        "# print(output)\n",
        "for i in range(0,len(output)):\n",
        "    if(output[i][0][2][1]-output[i][0][1][1]>= max ):\n",
        "      top=output[i][0][2][1]\n",
        "      bottom=output[i][0][1][1]\n",
        "      max=(output[i][0][2][1]-output[i][0][1][1])\n",
        "      book_name=book_name+output[i][1]\n",
        "      \n",
        "\n",
        "for i in range(0,len(output)):\n",
        "  if(output[i][0][2][1]< top and output[i][0][1][1]>=bottom):\n",
        "    book_name=book_name+output[i][1]\n",
        "\n",
        "# print(book_name)\n",
        "      \n",
        "    "
      ],
      "execution_count": null,
      "outputs": []
    }
  ]
}